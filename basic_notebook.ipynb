{
 "cells": [
  {
   "cell_type": "markdown",
   "id": "f323bf7e-9cb7-4716-99be-1a39a2b836a4",
   "metadata": {},
   "source": [
    "# AGS Python Basics"
   ]
  },
  {
   "cell_type": "code",
   "execution_count": 1,
   "id": "9fb33b7f-e92c-488c-9168-96ca0ffbc1cb",
   "metadata": {},
   "outputs": [
    {
     "name": "stdout",
     "output_type": "stream",
     "text": [
      "34\n",
      "36.7\n",
      "Sangita=True\n"
     ]
    }
   ],
   "source": [
    "x = 34 \n",
    "y = 36.7\n",
    "z = True\n",
    "a = 'Sangita'\n",
    "print (x) \n",
    "print(y)\n",
    "print(a + '=' +str(z))\n",
    "\n",
    "\n",
    "\n"
   ]
  },
  {
   "cell_type": "code",
   "execution_count": 7,
   "id": "68efddc9-c2df-452f-8163-544a7dcec57e",
   "metadata": {},
   "outputs": [
    {
     "name": "stdout",
     "output_type": "stream",
     "text": [
      "x =  34 ,id of (x) =  4313261088\n",
      "y =  34 ,id of (y) =  4313261088\n",
      "x =  34 ,type of (x) =  <class 'int'>\n",
      "z =  35.7 ,type of (z) =  <class 'float'>\n",
      "a =  tua ,type of (a) =  <class 'str'>  length of (x) =  3\n"
     ]
    }
   ],
   "source": [
    "x = 34\n",
    "y = x\n",
    "z = 35.7\n",
    "a = 'tua'\n",
    "print('x = ', x, ',id of (x) = ', id(x))\n",
    "print('y = ', y, ',id of (y) = ', id(y))\n",
    "print('x = ', x, ',type of (x) = ', type(x))\n",
    "print('z = ', z, ',type of (z) = ', type(z))\n",
    "print('a = ', a, ',type of (a) = ', type(a), ' length of (x) = ', len(a))\n",
    "#print('a = ', a, ',length of (x) = ', len(x))"
   ]
  },
  {
   "cell_type": "code",
   "execution_count": null,
   "id": "784bfcd9-4cf2-4303-a623-791f5bae91ef",
   "metadata": {},
   "outputs": [],
   "source": []
  }
 ],
 "metadata": {
  "kernelspec": {
   "display_name": "Python 3 (ipykernel)",
   "language": "python",
   "name": "python3"
  },
  "language_info": {
   "codemirror_mode": {
    "name": "ipython",
    "version": 3
   },
   "file_extension": ".py",
   "mimetype": "text/x-python",
   "name": "python",
   "nbconvert_exporter": "python",
   "pygments_lexer": "ipython3",
   "version": "3.13.7"
  }
 },
 "nbformat": 4,
 "nbformat_minor": 5
}
