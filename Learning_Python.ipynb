{
  "nbformat": 4,
  "nbformat_minor": 0,
  "metadata": {
    "colab": {
      "provenance": [],
      "authorship_tag": "ABX9TyNCIA+6iZWRhVnuxDmLWWPS",
      "include_colab_link": true
    },
    "kernelspec": {
      "name": "python3",
      "display_name": "Python 3"
    },
    "language_info": {
      "name": "python"
    }
  },
  "cells": [
    {
      "cell_type": "markdown",
      "metadata": {
        "id": "view-in-github",
        "colab_type": "text"
      },
      "source": [
        "<a href=\"https://colab.research.google.com/github/sangitap-git/python_basics_practice/blob/main/Learning_Python.ipynb\" target=\"_parent\"><img src=\"https://colab.research.google.com/assets/colab-badge.svg\" alt=\"Open In Colab\"/></a>"
      ]
    },
    {
      "cell_type": "markdown",
      "source": [
        "# Day 1 Python"
      ],
      "metadata": {
        "id": "QZYUJGjI1EP-"
      }
    },
    {
      "cell_type": "code",
      "execution_count": null,
      "metadata": {
        "colab": {
          "base_uri": "https://localhost:8080/"
        },
        "id": "4kE3VUazroZm",
        "outputId": "20e707d4-b46e-457e-dec4-699e5a31a2dc"
      },
      "outputs": [
        {
          "output_type": "stream",
          "name": "stdout",
          "text": [
            "Day1 Python Basic\n"
          ]
        }
      ],
      "source": [
        "print('Day1 Python Basic')"
      ]
    },
    {
      "cell_type": "code",
      "source": [
        "type('Tua')"
      ],
      "metadata": {
        "colab": {
          "base_uri": "https://localhost:8080/"
        },
        "id": "5GGerURoxXsK",
        "outputId": "98226356-0b92-4c6d-e083-3d3c359909e6"
      },
      "execution_count": null,
      "outputs": [
        {
          "output_type": "execute_result",
          "data": {
            "text/plain": [
              "str"
            ]
          },
          "metadata": {},
          "execution_count": 7
        }
      ]
    },
    {
      "cell_type": "code",
      "source": [
        "type(1.2)"
      ],
      "metadata": {
        "colab": {
          "base_uri": "https://localhost:8080/"
        },
        "id": "MgRonEsnzXoR",
        "outputId": "113324c4-f5eb-40dc-ab77-980c92d77d10"
      },
      "execution_count": null,
      "outputs": [
        {
          "output_type": "execute_result",
          "data": {
            "text/plain": [
              "float"
            ]
          },
          "metadata": {},
          "execution_count": 12
        }
      ]
    },
    {
      "cell_type": "code",
      "source": [
        "type (123)"
      ],
      "metadata": {
        "colab": {
          "base_uri": "https://localhost:8080/"
        },
        "id": "IWNOj1zZ3UYh",
        "outputId": "cc6c576c-c6d6-467a-deb4-2f181cc845cf"
      },
      "execution_count": null,
      "outputs": [
        {
          "output_type": "execute_result",
          "data": {
            "text/plain": [
              "int"
            ]
          },
          "metadata": {},
          "execution_count": 13
        }
      ]
    },
    {
      "cell_type": "code",
      "source": [
        "type (True)"
      ],
      "metadata": {
        "colab": {
          "base_uri": "https://localhost:8080/"
        },
        "id": "QLFMmGXG53qV",
        "outputId": "c4b8efc2-d44f-46af-9367-a8569d74d871"
      },
      "execution_count": null,
      "outputs": [
        {
          "output_type": "execute_result",
          "data": {
            "text/plain": [
              "bool"
            ]
          },
          "metadata": {},
          "execution_count": 26
        }
      ]
    },
    {
      "cell_type": "code",
      "source": [
        "var123 = 10\n",
        "print(var123)"
      ],
      "metadata": {
        "colab": {
          "base_uri": "https://localhost:8080/"
        },
        "id": "7X4rk3Sc3ZGl",
        "outputId": "61161e5c-5d73-4aaa-c5bc-b1bba9600222"
      },
      "execution_count": null,
      "outputs": [
        {
          "output_type": "stream",
          "name": "stdout",
          "text": [
            "10\n"
          ]
        }
      ]
    },
    {
      "cell_type": "code",
      "source": [
        "var_1 = 10\n",
        "print(var_1)"
      ],
      "metadata": {
        "colab": {
          "base_uri": "https://localhost:8080/"
        },
        "id": "m2-e50Qx4hMK",
        "outputId": "624ffb73-bd6d-40f5-abb3-812b94e2e06f"
      },
      "execution_count": null,
      "outputs": [
        {
          "output_type": "stream",
          "name": "stdout",
          "text": [
            "10\n"
          ]
        }
      ]
    },
    {
      "cell_type": "code",
      "source": [
        "_var = 10\n",
        "print (_var)\n",
        "type (_var)"
      ],
      "metadata": {
        "colab": {
          "base_uri": "https://localhost:8080/"
        },
        "id": "bs7WnQBi5XTP",
        "outputId": "0b3168d1-34de-460c-924f-eaa45636289a"
      },
      "execution_count": null,
      "outputs": [
        {
          "output_type": "stream",
          "name": "stdout",
          "text": [
            "10\n"
          ]
        },
        {
          "output_type": "execute_result",
          "data": {
            "text/plain": [
              "int"
            ]
          },
          "metadata": {},
          "execution_count": 40
        }
      ]
    },
    {
      "cell_type": "code",
      "source": [
        "type (_var)\n",
        "type ('tua')"
      ],
      "metadata": {
        "colab": {
          "base_uri": "https://localhost:8080/"
        },
        "id": "XQEYGjUq9Ots",
        "outputId": "ea1cbf4d-bcd6-46d7-dcec-6826028b6474"
      },
      "execution_count": null,
      "outputs": [
        {
          "output_type": "execute_result",
          "data": {
            "text/plain": [
              "str"
            ]
          },
          "metadata": {},
          "execution_count": 39
        }
      ]
    },
    {
      "cell_type": "code",
      "source": [
        "x=34\n",
        "y=67.9\n",
        "z=True\n",
        "print ('x = ', x, ', \\ty = ', y, ', \\tz = ', z)"
      ],
      "metadata": {
        "colab": {
          "base_uri": "https://localhost:8080/"
        },
        "id": "QJLjWRxy5yqC",
        "outputId": "d6ad5867-f007-4664-a914-044159f98206"
      },
      "execution_count": null,
      "outputs": [
        {
          "output_type": "stream",
          "name": "stdout",
          "text": [
            "x =  34 , \ty =  67.9 , \tz =  True\n"
          ]
        }
      ]
    },
    {
      "cell_type": "markdown",
      "source": [
        "#Day 2 Python"
      ],
      "metadata": {
        "id": "1iF80M2ZfmhL"
      }
    },
    {
      "cell_type": "code",
      "source": [
        "x = 34\n",
        "y = 67.8\n",
        "z = True\n",
        "print(' x = ', x, '\\n y = ', y, '\\n z = ', z)"
      ],
      "metadata": {
        "colab": {
          "base_uri": "https://localhost:8080/"
        },
        "id": "83e_6jrtfshk",
        "outputId": "78fcb6af-6a60-4217-d40f-a65c6f2c76ce"
      },
      "execution_count": null,
      "outputs": [
        {
          "output_type": "stream",
          "name": "stdout",
          "text": [
            " x =  34 \n",
            " y =  67.8 \n",
            " z =  True\n"
          ]
        }
      ]
    },
    {
      "cell_type": "markdown",
      "source": [
        "###Data Type"
      ],
      "metadata": {
        "id": "3bNqz_Xmvr5m"
      }
    },
    {
      "cell_type": "code",
      "source": [
        "x=45.77\n",
        "int(x)\n",
        "type(x)"
      ],
      "metadata": {
        "colab": {
          "base_uri": "https://localhost:8080/"
        },
        "id": "XyrCv8pGkf8S",
        "outputId": "7683350d-6ea8-4ed9-f629-a967beecc1ff"
      },
      "execution_count": null,
      "outputs": [
        {
          "output_type": "execute_result",
          "data": {
            "text/plain": [
              "float"
            ]
          },
          "metadata": {},
          "execution_count": 5
        }
      ]
    },
    {
      "cell_type": "code",
      "source": [
        "x=45.77\n",
        "x=int(x)\n",
        "type(x)"
      ],
      "metadata": {
        "colab": {
          "base_uri": "https://localhost:8080/"
        },
        "id": "-TMkL4QNlAJu",
        "outputId": "6e3aab56-d917-4864-db63-63f210a05287"
      },
      "execution_count": null,
      "outputs": [
        {
          "output_type": "execute_result",
          "data": {
            "text/plain": [
              "int"
            ]
          },
          "metadata": {},
          "execution_count": 6
        }
      ]
    },
    {
      "cell_type": "code",
      "source": [
        "x=45.77\n",
        "round(x)"
      ],
      "metadata": {
        "colab": {
          "base_uri": "https://localhost:8080/"
        },
        "id": "nuSy1xxglJFX",
        "outputId": "4ee1ccdb-195b-413b-bc7c-f25cf524a30d"
      },
      "execution_count": null,
      "outputs": [
        {
          "output_type": "execute_result",
          "data": {
            "text/plain": [
              "46"
            ]
          },
          "metadata": {},
          "execution_count": 7
        }
      ]
    },
    {
      "cell_type": "code",
      "source": [
        "str(x)"
      ],
      "metadata": {
        "colab": {
          "base_uri": "https://localhost:8080/",
          "height": 35
        },
        "id": "c-WvDU-blUnn",
        "outputId": "764c217e-69d6-4a8c-dfa3-79515c4f139a"
      },
      "execution_count": null,
      "outputs": [
        {
          "output_type": "execute_result",
          "data": {
            "text/plain": [
              "'45.77'"
            ],
            "application/vnd.google.colaboratory.intrinsic+json": {
              "type": "string"
            }
          },
          "metadata": {},
          "execution_count": 8
        }
      ]
    },
    {
      "cell_type": "code",
      "source": [
        "bool(0.0)"
      ],
      "metadata": {
        "colab": {
          "base_uri": "https://localhost:8080/"
        },
        "id": "Bc9fWDXolVlU",
        "outputId": "5d0301af-64b4-4cac-ddbc-f3358e5f35d6"
      },
      "execution_count": null,
      "outputs": [
        {
          "output_type": "execute_result",
          "data": {
            "text/plain": [
              "False"
            ]
          },
          "metadata": {},
          "execution_count": 12
        }
      ]
    },
    {
      "cell_type": "code",
      "source": [
        "bool(0.1)"
      ],
      "metadata": {
        "colab": {
          "base_uri": "https://localhost:8080/"
        },
        "id": "OUqhmL7NlVpM",
        "outputId": "b73ce51a-95f4-4bde-95fc-f400f2aaaade"
      },
      "execution_count": null,
      "outputs": [
        {
          "output_type": "execute_result",
          "data": {
            "text/plain": [
              "True"
            ]
          },
          "metadata": {},
          "execution_count": 13
        }
      ]
    },
    {
      "cell_type": "markdown",
      "source": [
        "###Memory"
      ],
      "metadata": {
        "id": "vRKx0dEvv4rT"
      }
    },
    {
      "cell_type": "code",
      "source": [
        "x = 10\n",
        "y = 10\n",
        "print('x = ', x, '\\t', id(x),'\\ny = ', y, '\\t', id(y))"
      ],
      "metadata": {
        "colab": {
          "base_uri": "https://localhost:8080/"
        },
        "id": "JRYX8GhwlVto",
        "outputId": "56b979cb-264b-45e1-f50a-a5e1c76afd43"
      },
      "execution_count": null,
      "outputs": [
        {
          "output_type": "stream",
          "name": "stdout",
          "text": [
            "x =  10 \t 11642376 \n",
            "y =  10 \t 11642376\n"
          ]
        }
      ]
    },
    {
      "cell_type": "code",
      "source": [
        "x = 11\n",
        "y = 18\n",
        "z = 'ab'\n",
        "print('x = ', x, '\\t', 'id of x = ', id(x),'\\ny = ', y, '\\t', 'id of y = ', id(y), '\\nz = ', z, '\\t', 'id of z = ',id(z))"
      ],
      "metadata": {
        "colab": {
          "base_uri": "https://localhost:8080/"
        },
        "id": "ah6OMzoolVx0",
        "outputId": "3683f642-5d80-4f48-d525-3f17d080b93a"
      },
      "execution_count": null,
      "outputs": [
        {
          "output_type": "stream",
          "name": "stdout",
          "text": [
            "x =  11 \t id of x =  11642408 \n",
            "y =  18 \t id of y =  11642632 \n",
            "z =  ab \t id of z =  132136872801792\n"
          ]
        }
      ]
    },
    {
      "cell_type": "code",
      "source": [
        "x=10.34\n",
        "y=10.34\n",
        "print('x = ', x, '\\t', 'id of x = ', id(x),'\\ny = ', y, '\\t', 'id of y = ', id(y), '\\nz = ', z, '\\t', 'id of z = ', id(z))"
      ],
      "metadata": {
        "colab": {
          "base_uri": "https://localhost:8080/"
        },
        "id": "NVW05I8Gq3Jo",
        "outputId": "0bd7404b-a3f3-45de-e745-4cd287382b40"
      },
      "execution_count": null,
      "outputs": [
        {
          "output_type": "stream",
          "name": "stdout",
          "text": [
            "x =  10.34 \t id of x =  132135889681072 \n",
            "y =  10.34 \t id of y =  132135889671408 \n",
            "z =  ab \t id of z =  132136872801792\n"
          ]
        }
      ]
    },
    {
      "cell_type": "markdown",
      "source": [
        "###Operator"
      ],
      "metadata": {
        "id": "biPK7b0Iv9wU"
      }
    },
    {
      "cell_type": "code",
      "source": [
        "x=50\n",
        "y=4\n",
        "print('x+y = ', x+y)\n",
        "print('x-y = ', x-y)\n",
        "print('y-x = ', y-x)\n",
        "print('x*y = ', x*y)\n",
        "print('x/y = ', x/y)\n",
        "print('x%y = ', x%y)\n",
        "print('x//y = ', x//y)\n",
        "print('x**y = ', x**y)"
      ],
      "metadata": {
        "colab": {
          "base_uri": "https://localhost:8080/"
        },
        "id": "mbuzWfvCrw3J",
        "outputId": "f2978669-12bf-4a16-84ef-4d03f54e3e75"
      },
      "execution_count": null,
      "outputs": [
        {
          "output_type": "stream",
          "name": "stdout",
          "text": [
            "x+y =  54\n",
            "x-y =  46\n",
            "y-x =  -46\n",
            "x*y =  200\n",
            "x/y =  12.5\n",
            "x%y =  2\n",
            "x//y =  12\n",
            "x**y =  6250000\n"
          ]
        }
      ]
    },
    {
      "cell_type": "markdown",
      "source": [
        "##Comparison Operator"
      ],
      "metadata": {
        "id": "od6PAbLBwiwC"
      }
    },
    {
      "cell_type": "code",
      "source": [
        "10==10 #Equal Operator"
      ],
      "metadata": {
        "colab": {
          "base_uri": "https://localhost:8080/"
        },
        "id": "Iap7moyjvDVf",
        "outputId": "ad9a8c57-6043-46b2-98aa-b171ebc9c5c6"
      },
      "execution_count": null,
      "outputs": [
        {
          "output_type": "execute_result",
          "data": {
            "text/plain": [
              "True"
            ]
          },
          "metadata": {},
          "execution_count": 39
        }
      ]
    },
    {
      "cell_type": "code",
      "source": [
        "10!=10 #Not Equal Operator"
      ],
      "metadata": {
        "colab": {
          "base_uri": "https://localhost:8080/"
        },
        "id": "GEi6wFw7vDZo",
        "outputId": "3006e32b-2caf-4a63-e80e-6e91ecdd1bdc"
      },
      "execution_count": null,
      "outputs": [
        {
          "output_type": "execute_result",
          "data": {
            "text/plain": [
              "False"
            ]
          },
          "metadata": {},
          "execution_count": 40
        }
      ]
    },
    {
      "cell_type": "code",
      "source": [
        "10>5 #Greater Than Operator"
      ],
      "metadata": {
        "colab": {
          "base_uri": "https://localhost:8080/"
        },
        "id": "JBa-z5zNvDfp",
        "outputId": "840615cf-7c5a-454a-b326-714ed565f675"
      },
      "execution_count": null,
      "outputs": [
        {
          "output_type": "execute_result",
          "data": {
            "text/plain": [
              "True"
            ]
          },
          "metadata": {},
          "execution_count": 41
        }
      ]
    },
    {
      "cell_type": "code",
      "source": [
        "10<5 #Lesser Than Operator"
      ],
      "metadata": {
        "colab": {
          "base_uri": "https://localhost:8080/"
        },
        "id": "xe-huxbmvDpn",
        "outputId": "7a8b44a9-53b6-4589-8973-72afe3cbe6aa"
      },
      "execution_count": null,
      "outputs": [
        {
          "output_type": "execute_result",
          "data": {
            "text/plain": [
              "False"
            ]
          },
          "metadata": {},
          "execution_count": 42
        }
      ]
    },
    {
      "cell_type": "code",
      "source": [
        "a=10\n",
        "b=30\n",
        "print('a!=b', a!=b)"
      ],
      "metadata": {
        "colab": {
          "base_uri": "https://localhost:8080/"
        },
        "id": "NFdfGR0VvDts",
        "outputId": "27dd3b71-5393-4726-ec94-204bd68f4271"
      },
      "execution_count": null,
      "outputs": [
        {
          "output_type": "stream",
          "name": "stdout",
          "text": [
            "a!=b True\n"
          ]
        }
      ]
    },
    {
      "cell_type": "markdown",
      "source": [
        "###Logical Operator"
      ],
      "metadata": {
        "id": "4SLlbhf31fJX"
      }
    },
    {
      "cell_type": "code",
      "source": [
        "a=30\n",
        "b=30\n",
        "print('a=b and a>b', a==b and a>b)\n",
        "print('a=b or a>b', a==b or a>b)\n",
        "print('a < 50 and b>10', a<50 and b>10)\n",
        "print(not(a>10))"
      ],
      "metadata": {
        "colab": {
          "base_uri": "https://localhost:8080/"
        },
        "id": "WEYk44mQvDxm",
        "outputId": "f1502078-eb96-41cc-b374-d439316c9741"
      },
      "execution_count": null,
      "outputs": [
        {
          "output_type": "stream",
          "name": "stdout",
          "text": [
            "a=b and a>b False\n",
            "a=b or a>b True\n",
            "a < 50 and b>10 True\n",
            "False\n"
          ]
        }
      ]
    },
    {
      "cell_type": "markdown",
      "source": [
        "###List"
      ],
      "metadata": {
        "id": "EjEjo_yf53HV"
      }
    },
    {
      "cell_type": "code",
      "source": [
        "fruits = ['Apple', 'Banana', 'Mango']\n",
        "marks = [70, 80, 99]\n",
        "mixed = ['abc', 3, 'cvb', 6]\n",
        "fruits.append('Guava')\n",
        "fruits.append(marks)\n",
        "fruits.append(mixed)\n",
        "print(fruits)"
      ],
      "metadata": {
        "colab": {
          "base_uri": "https://localhost:8080/"
        },
        "id": "_CtpAiCd5VtF",
        "outputId": "3c5d5fcd-8e63-4a2a-f68b-f0a9051df9ed"
      },
      "execution_count": null,
      "outputs": [
        {
          "output_type": "stream",
          "name": "stdout",
          "text": [
            "['Apple', 'Banana', 'Mango', 'Guava', [70, 80, 99], ['abc', 3, 'cvb', 6]]\n"
          ]
        }
      ]
    },
    {
      "cell_type": "code",
      "source": [
        "a = ['a', 'b', 'c']\n",
        "b = a\n",
        "x = 10.8\n",
        "y = x\n",
        "z = ['a', 'b', 'c']\n",
        "print(id(a), '\\t' , id(b), '\\t', a is b)\n",
        "print(id(x), '\\t' , id(y), '\\t', x is y)\n",
        "print(id(a)==id(z))\n",
        "print(id(a)==id(b))"
      ],
      "metadata": {
        "colab": {
          "base_uri": "https://localhost:8080/"
        },
        "id": "vFSCTKpe7urV",
        "outputId": "eb1fcdd8-6c08-4708-b2de-aef1dcf75040"
      },
      "execution_count": null,
      "outputs": [
        {
          "output_type": "stream",
          "name": "stdout",
          "text": [
            "132135886651008 \t 132135886651008 \t True\n",
            "132135889223056 \t 132135889223056 \t True\n",
            "False\n",
            "True\n"
          ]
        }
      ]
    },
    {
      "cell_type": "code",
      "source": [
        "a = 'a'\n",
        "b = 'Sangita'\n",
        "x = [10, 20, 30, 80]\n",
        "print (a in b)\n",
        "print ( a not in b)\n",
        "print (10 in x)"
      ],
      "metadata": {
        "colab": {
          "base_uri": "https://localhost:8080/"
        },
        "id": "JGDxu4H19bRZ",
        "outputId": "b43f35c2-29e8-463f-c63e-24139da41b1f"
      },
      "execution_count": null,
      "outputs": [
        {
          "output_type": "stream",
          "name": "stdout",
          "text": [
            "True\n",
            "False\n",
            "True\n"
          ]
        }
      ]
    },
    {
      "cell_type": "markdown",
      "source": [
        "###String Methods"
      ],
      "metadata": {
        "id": "wMiVaqsZ_tTj"
      }
    },
    {
      "cell_type": "code",
      "source": [
        "string = 'Sangita will get a JOB soon!'\n",
        "print(string)\n",
        "print(string.upper())\n",
        "print(string.lower())\n",
        "print(string.capitalize())\n",
        "print(string.title())"
      ],
      "metadata": {
        "colab": {
          "base_uri": "https://localhost:8080/"
        },
        "id": "7SSv_-Gx_xhU",
        "outputId": "236232ba-b595-4771-9b20-54bf7698b13e"
      },
      "execution_count": null,
      "outputs": [
        {
          "output_type": "stream",
          "name": "stdout",
          "text": [
            "Sangita will get a JOB soon!\n",
            "SANGITA WILL GET A JOB SOON!\n",
            "sangita will get a job soon!\n",
            "Sangita will get a job soon!\n",
            "Sangita Will Get A Job Soon!\n"
          ]
        }
      ]
    },
    {
      "cell_type": "markdown",
      "source": [
        "###Conditional Statement"
      ],
      "metadata": {
        "id": "4_Z3VLG3CUN7"
      }
    },
    {
      "cell_type": "code",
      "source": [
        "age = 18\n",
        "if age > 18:\n",
        "  print('You are an adult')\n",
        "elif age == 18:\n",
        "  print('You are just 18')\n",
        "else:\n",
        "  print('You are below 18')"
      ],
      "metadata": {
        "colab": {
          "base_uri": "https://localhost:8080/"
        },
        "id": "rkne1HN6B86A",
        "outputId": "6d0276ce-c8c9-409f-dca2-da350c6b5bfe"
      },
      "execution_count": null,
      "outputs": [
        {
          "output_type": "stream",
          "name": "stdout",
          "text": [
            "You are just 18\n"
          ]
        }
      ]
    },
    {
      "cell_type": "markdown",
      "source": [
        "#Day 3 Python"
      ],
      "metadata": {
        "id": "x7ctJun4ZlYr"
      }
    },
    {
      "cell_type": "markdown",
      "source": [
        "###User Input & Loop Condition"
      ],
      "metadata": {
        "id": "zXDBpTHyzj4G"
      }
    },
    {
      "cell_type": "code",
      "source": [
        "# Prompt the user to enter values\n",
        "inp = input(\"Enter your nationality:  \")\n",
        "num = int(input('Enter a number : '))"
      ],
      "metadata": {
        "colab": {
          "base_uri": "https://localhost:8080/"
        },
        "id": "xH9TuigHzwC_",
        "outputId": "d21ac478-86a4-4441-9107-5406a12ae6fa"
      },
      "execution_count": 3,
      "outputs": [
        {
          "name": "stdout",
          "output_type": "stream",
          "text": [
            "Enter your nationality:  Indian\n",
            "Enter a number : -9\n"
          ]
        }
      ]
    },
    {
      "cell_type": "code",
      "source": [
        "if num > 0:\n",
        "  print('Positive Number')\n",
        "elif num < 0:\n",
        "  print('Negative Number')\n",
        "else:\n",
        "  print('Zero Number')"
      ],
      "metadata": {
        "colab": {
          "base_uri": "https://localhost:8080/"
        },
        "id": "ToDBLdRWSrEx",
        "outputId": "52b44288-7293-44dc-af45-4821ed5120c3"
      },
      "execution_count": 4,
      "outputs": [
        {
          "output_type": "stream",
          "name": "stdout",
          "text": [
            "Negative Number\n"
          ]
        }
      ]
    },
    {
      "cell_type": "code",
      "source": [
        "Marks = float(input(\"Enter student's marks : \"))\n",
        "if Marks >= 90:\n",
        "  print('A Grade')\n",
        "elif Marks >= 80:\n",
        "  print('B Grade')\n",
        "elif Marks >= 70:\n",
        "  print('C Grade')\n",
        "elif Marks >= 60:\n",
        "  print('D Grade')\n",
        "elif Marks >= 50:\n",
        "  print('E Grade')\n",
        "else:\n",
        "  print('Fail')\n",
        "\n",
        "print(\"Thank You!\")"
      ],
      "metadata": {
        "colab": {
          "base_uri": "https://localhost:8080/"
        },
        "id": "MnEtSZHjTdMj",
        "outputId": "4d39d8a1-27a1-4c94-df1f-0d71c895d6ca"
      },
      "execution_count": 9,
      "outputs": [
        {
          "output_type": "stream",
          "name": "stdout",
          "text": [
            "Enter student's marks : 88.7\n",
            "B Grade\n",
            "Thank You!\n"
          ]
        }
      ]
    },
    {
      "cell_type": "code",
      "source": [
        "# Calculator\n",
        "print(\"****Calculator****\")\n",
        "print(\"1. Addition\")\n",
        "print(\"2. Subtraction\")\n",
        "print(\"3. Multiplication\")\n",
        "print(\"4. Division\")\n",
        "print(\"5. Modulus\")\n",
        "print(\"6. Exponent\")\n",
        "print(\"7. Floor Division\")\n",
        "Num1 = float(input(\"Enter first number : \"))\n",
        "Num2 = float(input(\"Enter second number : \"))\n",
        "Choice = int(input(\"Enter your choice : \"))\n",
        "if Choice == 1:\n",
        "  print(Num1, \"+\", Num2, \"=\", Num1+Num2)\n",
        "  print(\"Addition\")\n",
        "elif Choice == 2:\n",
        "  print(Num1, \"-\", Num2, \"=\", Num1-Num2)\n",
        "  print(\"Subtraction\")\n",
        "elif Choice == 3:\n",
        "  print(Num1, \"*\", Num2, \"=\", Num1*Num2)\n",
        "  print(\"Multiplication\")\n",
        "elif Choice == 4:\n",
        "  if Num2 == 0:\n",
        "    print(\"Cannot divide by zero\")\n",
        "  else:\n",
        "    print(Num1, \"/\", Num2, \"=\", Num1/Num2)\n",
        "    print(\"Division\")\n",
        "elif Choice == 5:\n",
        "  print(Num1, \"%\", Num2, \"=\", Num1%Num2)\n",
        "  print(\"Modulus\")\n",
        "elif Choice == 6:\n",
        "  print(Num1, \"**\", Num2, \"=\", Num1**Num2)\n",
        "  print(\"Exponent\")\n",
        "elif Choice == 7:\n",
        "  print(Num1, \"//\", Num2, \"=\", Num1//Num2)\n",
        "  print(\"Floor Division\")\n",
        "else:\n",
        "  print(\"Invalid Choice\")\n",
        "\n",
        ""
      ],
      "metadata": {
        "colab": {
          "base_uri": "https://localhost:8080/"
        },
        "id": "Z2o1Zt8kU8hb",
        "outputId": "9c863877-acf9-437e-cda7-23983055cd51"
      },
      "execution_count": 20,
      "outputs": [
        {
          "output_type": "stream",
          "name": "stdout",
          "text": [
            "****Calculator****\n",
            "1. Addition\n",
            "2. Subtraction\n",
            "3. Multiplication\n",
            "4. Division\n",
            "5. Modulus\n",
            "6. Exponent\n",
            "7. Floor Division\n",
            "Enter first number : 3\n",
            "Enter second number : 2\n",
            "Enter your choice : 7\n",
            "3.0 // 2.0 = 1.0\n",
            "Floor Division\n"
          ]
        }
      ]
    },
    {
      "cell_type": "markdown",
      "source": [
        "#####Loop Statement"
      ],
      "metadata": {
        "id": "Hn-0d4vlX_y8"
      }
    },
    {
      "cell_type": "code",
      "source": [
        "i = [10, 20, 30]\n",
        "for x in i:\n",
        "  print(x)"
      ],
      "metadata": {
        "colab": {
          "base_uri": "https://localhost:8080/"
        },
        "id": "AVktpIrtcZUe",
        "outputId": "6525467d-a8c4-418d-8878-351cbf63f45f"
      },
      "execution_count": 37,
      "outputs": [
        {
          "output_type": "stream",
          "name": "stdout",
          "text": [
            "10\n",
            "20\n",
            "30\n"
          ]
        }
      ]
    },
    {
      "cell_type": "code",
      "source": [
        "# To increment by 2 in a for loop, use the range() function with a step argument\n",
        "for n in range(1, 10, 2): # This will iterate from 1 to 10, incrementing by 2\n",
        "  print(n)"
      ],
      "metadata": {
        "colab": {
          "base_uri": "https://localhost:8080/"
        },
        "id": "Z80zS3DDX99x",
        "outputId": "278ef8c7-fe31-4d89-d276-0aeca2597b4b"
      },
      "execution_count": 36,
      "outputs": [
        {
          "output_type": "stream",
          "name": "stdout",
          "text": [
            "1\n",
            "3\n",
            "5\n",
            "7\n",
            "9\n"
          ]
        }
      ]
    },
    {
      "cell_type": "code",
      "metadata": {
        "colab": {
          "base_uri": "https://localhost:8080/"
        },
        "id": "47e72bee",
        "outputId": "0cb541a6-edbe-46de-a01e-9e0e36f5e205"
      },
      "source": [
        "my_string = \"Programming\"\n",
        "for char in my_string[::2]:\n",
        "  print(char)"
      ],
      "execution_count": 40,
      "outputs": [
        {
          "output_type": "stream",
          "name": "stdout",
          "text": [
            "P\n",
            "o\n",
            "r\n",
            "m\n",
            "i\n",
            "g\n"
          ]
        }
      ]
    },
    {
      "cell_type": "code",
      "source": [
        "S = 'Sangita'\n",
        "for n in S:\n",
        "  print(n)\n",
        "  if n == 'a':\n",
        "    break\n",
        "print('Thank you!')"
      ],
      "metadata": {
        "colab": {
          "base_uri": "https://localhost:8080/"
        },
        "id": "wUjhE1NiYelC",
        "outputId": "e40df108-3405-4b99-ed04-f4cced3287d0"
      },
      "execution_count": 23,
      "outputs": [
        {
          "output_type": "stream",
          "name": "stdout",
          "text": [
            "S\n",
            "a\n",
            "Thank you!\n"
          ]
        }
      ]
    },
    {
      "cell_type": "code",
      "source": [
        "S = 'Sangita'\n",
        "for n in S:\n",
        "  if n == 'a':\n",
        "    continue\n",
        "  print(n)\n",
        "print('Thank you!')"
      ],
      "metadata": {
        "colab": {
          "base_uri": "https://localhost:8080/"
        },
        "id": "wvmyWAzFY6hE",
        "outputId": "5ea04654-25e5-4c9e-e33e-5d494fdf7f0e"
      },
      "execution_count": 24,
      "outputs": [
        {
          "output_type": "stream",
          "name": "stdout",
          "text": [
            "S\n",
            "n\n",
            "g\n",
            "i\n",
            "t\n",
            "Thank you!\n"
          ]
        }
      ]
    },
    {
      "cell_type": "code",
      "source": [
        "S = 'Sangita'\n",
        "for n in S:\n",
        "  if n == 'a':\n",
        "    pass\n",
        "  print(n)\n",
        "print('Thank you!')"
      ],
      "metadata": {
        "colab": {
          "base_uri": "https://localhost:8080/"
        },
        "id": "4wl7eW2aZT6F",
        "outputId": "56bf7a06-a141-41a4-ba80-668689fc1185"
      },
      "execution_count": 32,
      "outputs": [
        {
          "output_type": "stream",
          "name": "stdout",
          "text": [
            "S\n",
            "a\n",
            "n\n",
            "g\n",
            "i\n",
            "t\n",
            "a\n",
            "Thank you!\n"
          ]
        }
      ]
    },
    {
      "cell_type": "code",
      "source": [
        "a = 0\n",
        "while a <= 5 : # Increased the upper limit to better show the increment of 2\n",
        "  print(a)\n",
        "  a += 2 # Increment by 2\n",
        "print('Thank you!')"
      ],
      "metadata": {
        "colab": {
          "base_uri": "https://localhost:8080/"
        },
        "id": "tRrRs3AQZ8PX",
        "outputId": "e5e46d8b-1f4d-4433-f88f-f19d3fef3dab"
      },
      "execution_count": 42,
      "outputs": [
        {
          "output_type": "stream",
          "name": "stdout",
          "text": [
            "0\n",
            "2\n",
            "4\n",
            "Thank you!\n"
          ]
        }
      ]
    },
    {
      "cell_type": "code",
      "metadata": {
        "colab": {
          "base_uri": "https://localhost:8080/"
        },
        "id": "cde251aa",
        "outputId": "cb0d5568-cedd-4d0b-eee5-3332183fa219"
      },
      "source": [
        "my_string = \"Programming\"\n",
        "index = 0\n",
        "while index < len(my_string):\n",
        "  print(my_string[index])\n",
        "  index += 2"
      ],
      "execution_count": 43,
      "outputs": [
        {
          "output_type": "stream",
          "name": "stdout",
          "text": [
            "P\n",
            "o\n",
            "r\n",
            "m\n",
            "i\n",
            "g\n"
          ]
        }
      ]
    },
    {
      "cell_type": "markdown",
      "source": [
        "Range"
      ],
      "metadata": {
        "id": "-C3Kbqs4gG7h"
      }
    },
    {
      "cell_type": "code",
      "source": [],
      "metadata": {
        "id": "pYkgnwqggO69"
      },
      "execution_count": null,
      "outputs": []
    },
    {
      "cell_type": "markdown",
      "source": [
        "### Functions"
      ],
      "metadata": {
        "id": "nXBKU-wbwras"
      }
    },
    {
      "cell_type": "code",
      "source": [
        "def greet():    #Define a function\n",
        "  print(\"Hello! Lets learn Python Function!\")"
      ],
      "metadata": {
        "id": "BsLU4JpCB880"
      },
      "execution_count": null,
      "outputs": []
    },
    {
      "cell_type": "code",
      "source": [
        "greet()   #Call a function"
      ],
      "metadata": {
        "id": "Mb9NTheRB8_p",
        "colab": {
          "base_uri": "https://localhost:8080/"
        },
        "outputId": "5215fe34-c23d-4247-9599-dd1e17c2890f"
      },
      "execution_count": null,
      "outputs": [
        {
          "output_type": "stream",
          "name": "stdout",
          "text": [
            "Hello! Lets learn Python Function!\n"
          ]
        }
      ]
    },
    {
      "cell_type": "code",
      "source": [
        "def add_num(a, b):\n",
        "  return a+b\n",
        "\n",
        "print(add_num(10, 20))"
      ],
      "metadata": {
        "id": "HMOXigxbB9DU",
        "colab": {
          "base_uri": "https://localhost:8080/"
        },
        "outputId": "2de5765f-ae2f-4927-b0f3-2d071c99dc58"
      },
      "execution_count": null,
      "outputs": [
        {
          "output_type": "stream",
          "name": "stdout",
          "text": [
            "30\n"
          ]
        }
      ]
    },
    {
      "cell_type": "code",
      "source": [
        "def adding(v1, v2):\n",
        "  print(v1+v2)\n",
        "\n",
        "adding(10, 40)"
      ],
      "metadata": {
        "id": "cH71EIFDB9Mc",
        "colab": {
          "base_uri": "https://localhost:8080/"
        },
        "outputId": "c91a0249-a942-409c-f6ba-0f3c6cd03faf"
      },
      "execution_count": null,
      "outputs": [
        {
          "output_type": "stream",
          "name": "stdout",
          "text": [
            "50\n"
          ]
        }
      ]
    },
    {
      "cell_type": "code",
      "source": [
        "def evenodd(v1):\n",
        "  if v1 % 2 == 0:\n",
        "    print(\"Even Number\")\n",
        "  else:\n",
        "    print(\"Odd Number\")\n",
        "\n",
        "evenodd(35)"
      ],
      "metadata": {
        "colab": {
          "base_uri": "https://localhost:8080/"
        },
        "id": "yivV6toQyglD",
        "outputId": "f2fcd92d-d954-4f15-9be0-8b08ac0e035f"
      },
      "execution_count": null,
      "outputs": [
        {
          "output_type": "stream",
          "name": "stdout",
          "text": [
            "Odd Number\n"
          ]
        }
      ]
    },
    {
      "cell_type": "markdown",
      "source": [
        "###Arbitary Arguments (Any no. of param)"
      ],
      "metadata": {
        "id": "FmCs5XT21P47"
      }
    },
    {
      "cell_type": "code",
      "source": [
        "def total(*args):\n",
        "  tot = 0\n",
        "  for n in args:\n",
        "    tot += n\n",
        "  print(tot)\n",
        "\n",
        "total(20, 60)"
      ],
      "metadata": {
        "colab": {
          "base_uri": "https://localhost:8080/"
        },
        "id": "2jwAt4lK1flI",
        "outputId": "ed8803c4-7d3a-47e2-fdcf-0ddae7ec0479"
      },
      "execution_count": null,
      "outputs": [
        {
          "output_type": "stream",
          "name": "stdout",
          "text": [
            "80\n"
          ]
        }
      ]
    },
    {
      "cell_type": "code",
      "source": [
        "total(70, 50.9, 90)"
      ],
      "metadata": {
        "colab": {
          "base_uri": "https://localhost:8080/"
        },
        "id": "oJ1E5y7-4snK",
        "outputId": "78dff354-ea13-4ad5-8be4-d6740978ea04"
      },
      "execution_count": null,
      "outputs": [
        {
          "output_type": "stream",
          "name": "stdout",
          "text": [
            "210.9\n"
          ]
        }
      ]
    },
    {
      "cell_type": "markdown",
      "source": [
        "###Keyword Arbitary Arguments"
      ],
      "metadata": {
        "id": "OUBS9CZHRqKU"
      }
    },
    {
      "cell_type": "code",
      "source": [
        "def profile(**kwargs):\n",
        "  print(key, args)"
      ],
      "metadata": {
        "id": "UKrGQ6QwRxaF"
      },
      "execution_count": null,
      "outputs": []
    }
  ]
}