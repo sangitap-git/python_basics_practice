{
  "cells": [
    {
      "cell_type": "markdown",
      "id": "b37eb53b",
      "metadata": {
        "id": "b37eb53b"
      },
      "source": [
        "## if statement"
      ]
    },
    {
      "cell_type": "code",
      "execution_count": null,
      "id": "3bcc1654",
      "metadata": {
        "id": "3bcc1654"
      },
      "outputs": [],
      "source": [
        "# Prompt the user to enter their nationality\n",
        "inp = input('Enter Nationality : ')"
      ]
    },
    {
      "cell_type": "code",
      "execution_count": null,
      "id": "1f456d4c",
      "metadata": {
        "id": "1f456d4c"
      },
      "outputs": [],
      "source": [
        "# Check if the input is 'French'\n",
        "# If the user is French, print a message in French\n",
        "if inp == \"French\":\n",
        "    print('Préférez vous parler français ?') # if block\n",
        "# Print a thank you message regardless of the nationality\n",
        "print('Thank You!!')"
      ]
    },
    {
      "cell_type": "markdown",
      "id": "4a788ba3",
      "metadata": {
        "id": "4a788ba3"
      },
      "source": [
        "## if else"
      ]
    },
    {
      "cell_type": "code",
      "execution_count": null,
      "id": "cb71cfdc",
      "metadata": {
        "id": "cb71cfdc"
      },
      "outputs": [],
      "source": [
        "# Prompt the user to enter their nationality\n",
        "num = int(input('Enter a number : '))"
      ]
    },
    {
      "cell_type": "code",
      "execution_count": null,
      "id": "18b04483",
      "metadata": {
        "id": "18b04483"
      },
      "outputs": [],
      "source": [
        "if num > 0 :\n",
        "    print(num, ' is a positve number')\n",
        "else :\n",
        "    print(num, ' is a negative number')"
      ]
    },
    {
      "cell_type": "markdown",
      "id": "60864126",
      "metadata": {
        "id": "60864126"
      },
      "source": [
        "## if elif"
      ]
    },
    {
      "cell_type": "code",
      "execution_count": null,
      "id": "b169a219",
      "metadata": {
        "id": "b169a219"
      },
      "outputs": [],
      "source": [
        "# Prompt the user to enter their nationality\n",
        "marks =  float(input('Please enter marks : '))\n",
        "if marks >=90 :\n",
        "    print('Grade A')\n",
        "elif marks >=75 :\n",
        "    print('Grade B')\n",
        "elif marks >= 55 :\n",
        "    print('Grade C')\n",
        "elif marks >= 35 :\n",
        "    print('Grade D')\n",
        "else :\n",
        "    print('Grade F')\n",
        "print('Thank you !!')"
      ]
    },
    {
      "cell_type": "markdown",
      "id": "2968abba",
      "metadata": {
        "id": "2968abba"
      },
      "source": [
        "## Nested if"
      ]
    },
    {
      "cell_type": "code",
      "execution_count": null,
      "id": "d1c57240",
      "metadata": {
        "id": "d1c57240"
      },
      "outputs": [],
      "source": [
        "# Prompt the user to enter their nationality\n",
        "a = int(input('Enter a number :'))\n",
        "# Prompt the user to enter their nationality\n",
        "b = int(input('Enter a number :'))\n",
        "# Prompt the user to enter their nationality\n",
        "c = int(input('Enter a number :'))"
      ]
    },
    {
      "cell_type": "code",
      "execution_count": null,
      "id": "cfb2d1df",
      "metadata": {
        "id": "cfb2d1df"
      },
      "outputs": [],
      "source": [
        "if (a > b):\n",
        "    if (a > c):\n",
        "        print('a (', a, ') is greatest')\n",
        "    else :\n",
        "        print('c (', c, ') is greatest')\n",
        "else :\n",
        "    if (b > c):\n",
        "        print('b (', b, ') is greatest')\n",
        "    else :\n",
        "        print('c (', c, ') is greatest')"
      ]
    },
    {
      "cell_type": "markdown",
      "id": "be62d16e",
      "metadata": {
        "id": "be62d16e"
      },
      "source": [
        "# Loops"
      ]
    },
    {
      "cell_type": "markdown",
      "id": "fdf844e6",
      "metadata": {
        "id": "fdf844e6"
      },
      "source": [
        "## for loop"
      ]
    },
    {
      "cell_type": "code",
      "execution_count": null,
      "id": "0455be24",
      "metadata": {
        "id": "0455be24"
      },
      "outputs": [],
      "source": [
        "string = 'Python'\n",
        "for s in string:\n",
        "    print(s)\n",
        "# Print a thank you message regardless of the nationality\n",
        "print('Thank You!!')"
      ]
    },
    {
      "cell_type": "markdown",
      "id": "868ee650",
      "metadata": {
        "id": "868ee650"
      },
      "source": [
        "### Output Explanation\n",
        "The output of this cell is:\n",
        "```\n",
        "P\n",
        "y\n",
        "t\n",
        "h\n",
        "o\n",
        "n\n",
        "Thank You!!\n",
        "\n",
        "```\n"
      ]
    },
    {
      "cell_type": "markdown",
      "id": "d870d063",
      "metadata": {
        "id": "d870d063"
      },
      "source": [
        "## while loop"
      ]
    },
    {
      "cell_type": "code",
      "execution_count": null,
      "id": "ad06ebe6",
      "metadata": {
        "id": "ad06ebe6"
      },
      "outputs": [],
      "source": [
        "counter = 0\n",
        "while counter < 5:\n",
        "    print(counter)\n",
        "    counter += 1\n",
        "# Print a thank you message regardless of the nationality\n",
        "print('Thank You!!')"
      ]
    },
    {
      "cell_type": "markdown",
      "id": "9fc65cd9",
      "metadata": {
        "id": "9fc65cd9"
      },
      "source": [
        "### Output Explanation\n",
        "The output of this cell is:\n",
        "```\n",
        "0\n",
        "1\n",
        "2\n",
        "3\n",
        "4\n",
        "Thank You!!\n",
        "\n",
        "```\n"
      ]
    },
    {
      "cell_type": "markdown",
      "id": "564aa923",
      "metadata": {
        "id": "564aa923"
      },
      "source": [
        "##### while loop never executed"
      ]
    },
    {
      "cell_type": "code",
      "execution_count": null,
      "id": "2dac0b86",
      "metadata": {
        "id": "2dac0b86"
      },
      "outputs": [],
      "source": [
        "counter = 5\n",
        "while counter < 5:\n",
        "    print(counter)\n",
        "    counter += 1\n",
        "print('Thank you')"
      ]
    },
    {
      "cell_type": "markdown",
      "id": "891879c1",
      "metadata": {
        "id": "891879c1"
      },
      "source": [
        "### Output Explanation\n",
        "The output of this cell is:\n",
        "```\n",
        "Thank you\n",
        "\n",
        "```\n"
      ]
    },
    {
      "cell_type": "markdown",
      "id": "3b7b2ed7",
      "metadata": {
        "id": "3b7b2ed7"
      },
      "source": [
        "##### Infinite while loop\n",
        "\n",
        "**Note:** This code demonstrates an infinite loop; if you run it, simply stop it quickly to keep your lab environment running smoothly."
      ]
    },
    {
      "cell_type": "code",
      "execution_count": null,
      "id": "a77c65ea-77c3-477b-869e-dd195e4735b7",
      "metadata": {
        "id": "a77c65ea-77c3-477b-869e-dd195e4735b7"
      },
      "outputs": [],
      "source": [
        "counter = 0\n",
        "while counter < 5:\n",
        "    print(counter)\n",
        "print('Thank you')"
      ]
    },
    {
      "cell_type": "markdown",
      "id": "b8b09fbf-b658-48d7-b070-ceb2a6d4a153",
      "metadata": {
        "id": "b8b09fbf-b658-48d7-b070-ceb2a6d4a153"
      },
      "source": [
        "### Output Explanation\n",
        "The output of this cell is:\n",
        "\n",
        "0\n",
        "\n",
        "0\n",
        "\n",
        "0\n",
        "\n",
        "0\n",
        "\n",
        "0\n",
        "\n",
        "0\n",
        "\n",
        "...\n",
        "\n",
        "The output will be an endless stream of 0s, because the value of *counter* never changes and the loop condition *counter < 5* remains true indefinitely."
      ]
    },
    {
      "cell_type": "markdown",
      "id": "162e23a1",
      "metadata": {
        "id": "162e23a1"
      },
      "source": [
        "## Range function"
      ]
    },
    {
      "cell_type": "markdown",
      "id": "015aac85",
      "metadata": {
        "id": "015aac85"
      },
      "source": [
        "#### range(n)"
      ]
    },
    {
      "cell_type": "code",
      "execution_count": null,
      "id": "bd2d6ab4",
      "metadata": {
        "id": "bd2d6ab4"
      },
      "outputs": [],
      "source": [
        "obj = range(10)\n",
        "print(obj)"
      ]
    },
    {
      "cell_type": "code",
      "execution_count": null,
      "id": "3a585a0d",
      "metadata": {
        "id": "3a585a0d"
      },
      "outputs": [],
      "source": [
        "print(list(obj))"
      ]
    },
    {
      "cell_type": "markdown",
      "id": "2800819d",
      "metadata": {
        "id": "2800819d"
      },
      "source": [
        "#### range(start, stop)"
      ]
    },
    {
      "cell_type": "code",
      "execution_count": null,
      "id": "2763cefa",
      "metadata": {
        "id": "2763cefa"
      },
      "outputs": [],
      "source": [
        "obj = range(5, 15)\n",
        "print(list(obj))"
      ]
    },
    {
      "cell_type": "markdown",
      "id": "9db1db43",
      "metadata": {
        "id": "9db1db43"
      },
      "source": [
        "#### Step in range"
      ]
    },
    {
      "cell_type": "code",
      "execution_count": null,
      "id": "11f321e3",
      "metadata": {
        "id": "11f321e3"
      },
      "outputs": [],
      "source": [
        "obj = range(2, 50, 2)\n",
        "print(list(obj))"
      ]
    },
    {
      "cell_type": "markdown",
      "id": "891a83dd",
      "metadata": {
        "id": "891a83dd"
      },
      "source": [
        "## Nested Loops"
      ]
    },
    {
      "cell_type": "code",
      "execution_count": null,
      "id": "da37eefa",
      "metadata": {
        "id": "da37eefa"
      },
      "outputs": [],
      "source": [
        "# outer loop\n",
        "for j in range(2,11):\n",
        "    print('Table of :', j)\n",
        "    # inner loop\n",
        "    for i in range(1,11):\n",
        "        # print multiplication\n",
        "        print('{:2d} X {:2d} = {:2d}'.format(j,i, 2*i).center(20))\n",
        "    print('\\nEnd of multiplication table of ', j, '\\n')\n",
        "print('Thank You')"
      ]
    },
    {
      "cell_type": "markdown",
      "id": "945a4fd7",
      "metadata": {
        "id": "945a4fd7",
        "tags": []
      },
      "source": [
        "## Loop Control Statements"
      ]
    },
    {
      "cell_type": "code",
      "execution_count": null,
      "id": "e80867d3",
      "metadata": {
        "id": "e80867d3"
      },
      "outputs": [],
      "source": [
        "for s in 'Python':\n",
        "    if s == 'h':\n",
        "        break\n",
        "    print(s)\n",
        "print('End of Loop')"
      ]
    },
    {
      "cell_type": "code",
      "execution_count": null,
      "id": "d15d44e1",
      "metadata": {
        "id": "d15d44e1"
      },
      "outputs": [],
      "source": [
        "for s in 'Python':\n",
        "    if s == 'h':\n",
        "        continue\n",
        "    print(s)\n",
        "print('End of Loop')"
      ]
    },
    {
      "cell_type": "markdown",
      "id": "2dc4c990",
      "metadata": {
        "id": "2dc4c990"
      },
      "source": [
        "## Loop Else Statements"
      ]
    },
    {
      "cell_type": "code",
      "execution_count": null,
      "id": "c75563ee",
      "metadata": {
        "id": "c75563ee"
      },
      "outputs": [],
      "source": [
        "for i in range(5):\n",
        "# Prompt the user to enter their nationality\n",
        "    food = input('Enter edible item :')\n",
        "    if food == 'spam':\n",
        "        print('No more spam please !!')\n",
        "        break\n",
        "    print('Great Delicious ')\n",
        "else :\n",
        "    print('I am so glad !! No Spam')\n",
        "print('Finally finshed stuffing myself!!')"
      ]
    },
    {
      "cell_type": "code",
      "execution_count": null,
      "id": "9c3b6a49",
      "metadata": {
        "id": "9c3b6a49"
      },
      "outputs": [],
      "source": [
        "for i in range(5):\n",
        "# Prompt the user to enter their nationality\n",
        "    food = input('Enter edible item :')\n",
        "    if food == 'spam':\n",
        "        print('No more spam please !!')\n",
        "        break\n",
        "    print('Great Delicious ')\n",
        "else :\n",
        "    print('I am so glad !! No Spam')\n",
        "print('Finally finshed stuffing myself!!')"
      ]
    },
    {
      "cell_type": "code",
      "execution_count": null,
      "id": "8ce83f35",
      "metadata": {
        "id": "8ce83f35"
      },
      "outputs": [],
      "source": []
    }
  ],
  "metadata": {
    "colab": {
      "provenance": []
    },
    "kernelspec": {
      "display_name": "Python 3 [3.10]",
      "language": "python",
      "name": "python3"
    },
    "language_info": {
      "codemirror_mode": {
        "name": "ipython",
        "version": 3
      },
      "file_extension": ".py",
      "mimetype": "text/x-python",
      "name": "python",
      "nbconvert_exporter": "python",
      "pygments_lexer": "ipython3",
      "version": "3.10.2"
    }
  },
  "nbformat": 4,
  "nbformat_minor": 5
}